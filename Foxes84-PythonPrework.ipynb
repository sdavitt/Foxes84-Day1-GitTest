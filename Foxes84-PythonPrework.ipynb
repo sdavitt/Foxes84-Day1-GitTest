{
 "cells": [
  {
   "cell_type": "markdown",
   "id": "a83f3388",
   "metadata": {},
   "source": [
    "# Question 1"
   ]
  },
  {
   "cell_type": "code",
   "execution_count": 26,
   "id": "7c94426f",
   "metadata": {},
   "outputs": [
    {
     "name": "stdout",
     "output_type": "stream",
     "text": [
      "HelloCARLOS!\n",
      "HelloDEVON!\n",
      "HelloSAM!\n"
     ]
    }
   ],
   "source": [
    "def hello_name(user_name):\n",
    "    print(\"Hello\" + user_name.upper() + \"!\")\n",
    "    \n",
    "hello_name('Carlos')\n",
    "hello_name('Devon')\n",
    "hello_name('Sam')"
   ]
  },
  {
   "cell_type": "markdown",
   "id": "36614957",
   "metadata": {},
   "source": [
    "# Question 2"
   ]
  },
  {
   "cell_type": "code",
   "execution_count": 36,
   "id": "d08da61f",
   "metadata": {},
   "outputs": [
    {
     "name": "stdout",
     "output_type": "stream",
     "text": [
      "1\n",
      "3\n",
      "5\n",
      "7\n",
      "9\n",
      "11\n",
      "13\n",
      "15\n",
      "17\n",
      "19\n",
      "21\n",
      "23\n",
      "25\n",
      "27\n",
      "29\n",
      "31\n",
      "33\n",
      "35\n",
      "37\n",
      "39\n",
      "41\n",
      "43\n",
      "45\n",
      "47\n",
      "49\n",
      "51\n",
      "53\n",
      "55\n",
      "57\n",
      "59\n",
      "61\n",
      "63\n",
      "65\n",
      "67\n",
      "69\n",
      "71\n",
      "73\n",
      "75\n",
      "77\n",
      "79\n",
      "81\n",
      "83\n",
      "85\n",
      "87\n",
      "89\n",
      "91\n",
      "93\n",
      "95\n",
      "97\n",
      "99\n"
     ]
    }
   ],
   "source": [
    "def oddnums():\n",
    "    for num in range(1, 101, 2):\n",
    "        print(num)\n",
    "    \n",
    "oddnums()"
   ]
  },
  {
   "cell_type": "code",
   "execution_count": 47,
   "id": "e6e382c2",
   "metadata": {},
   "outputs": [
    {
     "name": "stdout",
     "output_type": "stream",
     "text": [
      "1\n",
      "3\n",
      "5\n",
      "7\n",
      "9\n",
      "11\n",
      "13\n",
      "15\n",
      "17\n",
      "19\n",
      "21\n",
      "23\n",
      "25\n",
      "27\n",
      "29\n",
      "31\n",
      "33\n",
      "35\n",
      "37\n",
      "39\n",
      "41\n",
      "43\n",
      "45\n",
      "47\n",
      "49\n",
      "51\n",
      "53\n",
      "55\n",
      "57\n",
      "59\n",
      "61\n",
      "63\n",
      "65\n",
      "67\n",
      "69\n",
      "71\n",
      "73\n",
      "75\n",
      "77\n",
      "79\n",
      "81\n",
      "83\n",
      "85\n",
      "87\n",
      "89\n",
      "91\n",
      "93\n",
      "95\n",
      "97\n",
      "99\n"
     ]
    }
   ],
   "source": [
    "def odd_numbers2():\n",
    "    numbers = list(range(0, 101))\n",
    "    for x in numbers:\n",
    "        if x % 2 != 0:\n",
    "            print(x)\n",
    "        \n",
    "odd_numbers2()"
   ]
  },
  {
   "cell_type": "code",
   "execution_count": 55,
   "id": "a8bbfbd2",
   "metadata": {},
   "outputs": [
    {
     "name": "stdout",
     "output_type": "stream",
     "text": [
      "1\n",
      "3\n",
      "5\n",
      "7\n",
      "9\n",
      "11\n",
      "13\n",
      "15\n",
      "17\n",
      "19\n",
      "21\n",
      "23\n",
      "25\n",
      "27\n",
      "29\n",
      "31\n",
      "33\n",
      "35\n",
      "37\n",
      "39\n",
      "41\n",
      "43\n",
      "45\n",
      "47\n",
      "49\n",
      "51\n",
      "53\n",
      "55\n",
      "57\n",
      "59\n",
      "61\n",
      "63\n",
      "65\n",
      "67\n",
      "69\n",
      "71\n",
      "73\n",
      "75\n",
      "77\n",
      "79\n",
      "81\n",
      "83\n",
      "85\n",
      "87\n",
      "89\n",
      "91\n",
      "93\n",
      "95\n",
      "97\n",
      "99\n"
     ]
    }
   ],
   "source": [
    "def oddnums3(end):\n",
    "    start = 1\n",
    "    while start < end:\n",
    "        print(start)\n",
    "        start = start + 2\n",
    "oddnums3(101)"
   ]
  },
  {
   "cell_type": "code",
   "execution_count": 46,
   "id": "08c67b77",
   "metadata": {},
   "outputs": [
    {
     "data": {
      "text/plain": [
       "False"
      ]
     },
     "execution_count": 46,
     "metadata": {},
     "output_type": "execute_result"
    }
   ],
   "source": [
    "# any value mod 2 (x%2) will always be 1 or 0\n",
    "21784152%2 != 0"
   ]
  },
  {
   "cell_type": "markdown",
   "id": "917cd4a6",
   "metadata": {},
   "source": [
    "# Question 3"
   ]
  },
  {
   "cell_type": "code",
   "execution_count": 67,
   "id": "562d7aa4",
   "metadata": {},
   "outputs": [
    {
     "data": {
      "text/plain": [
       "[330.80048780278406,\n",
       " 127.19833071685504,\n",
       " 778.4459329639262,\n",
       " 435.8484982418629,\n",
       " 562.9127112284559,\n",
       " 905.6996947690293,\n",
       " 564.9614997977219,\n",
       " 199.78571239979536,\n",
       " 844.410615827642,\n",
       " 236.23009080950663]"
      ]
     },
     "execution_count": 67,
     "metadata": {},
     "output_type": "execute_result"
    }
   ],
   "source": [
    "from random import random\n",
    "my_list = [random()*1000 for x in range(10)]\n",
    "my_list"
   ]
  },
  {
   "cell_type": "code",
   "execution_count": 62,
   "id": "02bcd7d7",
   "metadata": {},
   "outputs": [
    {
     "name": "stdout",
     "output_type": "stream",
     "text": [
      "947.6370570347178\n"
     ]
    }
   ],
   "source": [
    "x = max(my_list)\n",
    "print(x)"
   ]
  },
  {
   "cell_type": "code",
   "execution_count": 68,
   "id": "00dc3c17",
   "metadata": {},
   "outputs": [
    {
     "name": "stdout",
     "output_type": "stream",
     "text": [
      "905.6996947690293\n"
     ]
    }
   ],
   "source": [
    "def maxinlist(a_list):\n",
    "    current_max = a_list[0] # setting current max to the value at index #0 in the list\n",
    "    for number in a_list:\n",
    "        # is the number I'm currently looking at larger than my current max value\n",
    "        if number > current_max:\n",
    "            current_max = number # if so, change my current max value\n",
    "    return current_max\n",
    "\n",
    "answer = maxinlist(my_list)\n",
    "print(answer)"
   ]
  },
  {
   "cell_type": "code",
   "execution_count": null,
   "id": "1f4aff43",
   "metadata": {},
   "outputs": [],
   "source": []
  }
 ],
 "metadata": {
  "kernelspec": {
   "display_name": "Python 3",
   "language": "python",
   "name": "python3"
  },
  "language_info": {
   "codemirror_mode": {
    "name": "ipython",
    "version": 3
   },
   "file_extension": ".py",
   "mimetype": "text/x-python",
   "name": "python",
   "nbconvert_exporter": "python",
   "pygments_lexer": "ipython3",
   "version": "3.8.8"
  }
 },
 "nbformat": 4,
 "nbformat_minor": 5
}

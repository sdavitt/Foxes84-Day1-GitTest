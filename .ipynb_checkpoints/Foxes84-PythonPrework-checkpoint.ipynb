{
 "cells": [
  {
   "cell_type": "markdown",
   "id": "a83f3388",
   "metadata": {},
   "source": [
    "# Question 1"
   ]
  },
  {
   "cell_type": "code",
   "execution_count": 26,
   "id": "7c94426f",
   "metadata": {},
   "outputs": [
    {
     "name": "stdout",
     "output_type": "stream",
     "text": [
      "HelloCARLOS!\n",
      "HelloDEVON!\n",
      "HelloSAM!\n"
     ]
    }
   ],
   "source": [
    "def hello_name(user_name):\n",
    "    print(\"Hello\" + user_name.upper() + \"!\")\n",
    "    \n",
    "hello_name('Carlos')\n",
    "hello_name('Devon')\n",
    "hello_name('Sam')"
   ]
  },
  {
   "cell_type": "markdown",
   "id": "36614957",
   "metadata": {},
   "source": [
    "# Question 2"
   ]
  },
  {
   "cell_type": "code",
   "execution_count": 36,
   "id": "d08da61f",
   "metadata": {},
   "outputs": [
    {
     "name": "stdout",
     "output_type": "stream",
     "text": [
      "1\n",
      "3\n",
      "5\n",
      "7\n",
      "9\n",
      "11\n",
      "13\n",
      "15\n",
      "17\n",
      "19\n",
      "21\n",
      "23\n",
      "25\n",
      "27\n",
      "29\n",
      "31\n",
      "33\n",
      "35\n",
      "37\n",
      "39\n",
      "41\n",
      "43\n",
      "45\n",
      "47\n",
      "49\n",
      "51\n",
      "53\n",
      "55\n",
      "57\n",
      "59\n",
      "61\n",
      "63\n",
      "65\n",
      "67\n",
      "69\n",
      "71\n",
      "73\n",
      "75\n",
      "77\n",
      "79\n",
      "81\n",
      "83\n",
      "85\n",
      "87\n",
      "89\n",
      "91\n",
      "93\n",
      "95\n",
      "97\n",
      "99\n"
     ]
    }
   ],
   "source": [
    "def oddnums():\n",
    "    for num in range(1, 101, 2):\n",
    "        print(num)\n",
    "    \n",
    "oddnums()"
   ]
  },
  {
   "cell_type": "code",
   "execution_count": 47,
   "id": "e6e382c2",
   "metadata": {},
   "outputs": [
    {
     "name": "stdout",
     "output_type": "stream",
     "text": [
      "1\n",
      "3\n",
      "5\n",
      "7\n",
      "9\n",
      "11\n",
      "13\n",
      "15\n",
      "17\n",
      "19\n",
      "21\n",
      "23\n",
      "25\n",
      "27\n",
      "29\n",
      "31\n",
      "33\n",
      "35\n",
      "37\n",
      "39\n",
      "41\n",
      "43\n",
      "45\n",
      "47\n",
      "49\n",
      "51\n",
      "53\n",
      "55\n",
      "57\n",
      "59\n",
      "61\n",
      "63\n",
      "65\n",
      "67\n",
      "69\n",
      "71\n",
      "73\n",
      "75\n",
      "77\n",
      "79\n",
      "81\n",
      "83\n",
      "85\n",
      "87\n",
      "89\n",
      "91\n",
      "93\n",
      "95\n",
      "97\n",
      "99\n"
     ]
    }
   ],
   "source": [
    "def odd_numbers2():\n",
    "    numbers = list(range(0, 101))\n",
    "    for x in numbers:\n",
    "        if x % 2 != 0:\n",
    "            print(x)\n",
    "        \n",
    "odd_numbers2()"
   ]
  },
  {
   "cell_type": "code",
   "execution_count": 55,
   "id": "a8bbfbd2",
   "metadata": {},
   "outputs": [
    {
     "name": "stdout",
     "output_type": "stream",
     "text": [
      "1\n",
      "3\n",
      "5\n",
      "7\n",
      "9\n",
      "11\n",
      "13\n",
      "15\n",
      "17\n",
      "19\n",
      "21\n",
      "23\n",
      "25\n",
      "27\n",
      "29\n",
      "31\n",
      "33\n",
      "35\n",
      "37\n",
      "39\n",
      "41\n",
      "43\n",
      "45\n",
      "47\n",
      "49\n",
      "51\n",
      "53\n",
      "55\n",
      "57\n",
      "59\n",
      "61\n",
      "63\n",
      "65\n",
      "67\n",
      "69\n",
      "71\n",
      "73\n",
      "75\n",
      "77\n",
      "79\n",
      "81\n",
      "83\n",
      "85\n",
      "87\n",
      "89\n",
      "91\n",
      "93\n",
      "95\n",
      "97\n",
      "99\n"
     ]
    }
   ],
   "source": [
    "def oddnums3(end):\n",
    "    start = 1\n",
    "    while start < end:\n",
    "        print(start)\n",
    "        start = start + 2\n",
    "oddnums3(101)"
   ]
  },
  {
   "cell_type": "code",
   "execution_count": 46,
   "id": "08c67b77",
   "metadata": {},
   "outputs": [
    {
     "data": {
      "text/plain": [
       "False"
      ]
     },
     "execution_count": 46,
     "metadata": {},
     "output_type": "execute_result"
    }
   ],
   "source": [
    "# any value mod 2 (x%2) will always be 1 or 0\n",
    "21784152%2 != 0"
   ]
  },
  {
   "cell_type": "markdown",
   "id": "917cd4a6",
   "metadata": {},
   "source": [
    "# Question 3"
   ]
  },
  {
   "cell_type": "code",
   "execution_count": 67,
   "id": "562d7aa4",
   "metadata": {},
   "outputs": [
    {
     "data": {
      "text/plain": [
       "[330.80048780278406,\n",
       " 127.19833071685504,\n",
       " 778.4459329639262,\n",
       " 435.8484982418629,\n",
       " 562.9127112284559,\n",
       " 905.6996947690293,\n",
       " 564.9614997977219,\n",
       " 199.78571239979536,\n",
       " 844.410615827642,\n",
       " 236.23009080950663]"
      ]
     },
     "execution_count": 67,
     "metadata": {},
     "output_type": "execute_result"
    }
   ],
   "source": [
    "from random import random\n",
    "my_list = [random()*1000 for x in range(10)]\n",
    "my_list"
   ]
  },
  {
   "cell_type": "code",
   "execution_count": 62,
   "id": "02bcd7d7",
   "metadata": {},
   "outputs": [
    {
     "name": "stdout",
     "output_type": "stream",
     "text": [
      "947.6370570347178\n"
     ]
    }
   ],
   "source": [
    "x = max(my_list)\n",
    "print(x)"
   ]
  },
  {
   "cell_type": "code",
   "execution_count": 68,
   "id": "00dc3c17",
   "metadata": {},
   "outputs": [
    {
     "name": "stdout",
     "output_type": "stream",
     "text": [
      "905.6996947690293\n"
     ]
    }
   ],
   "source": [
    "def maxinlist(a_list):\n",
    "    current_max = a_list[0] # setting current max to the value at index #0 in the list\n",
    "    for number in a_list:\n",
    "        # is the number I'm currently looking at larger than my current max value\n",
    "        if number > current_max:\n",
    "            current_max = number # if so, change my current max value\n",
    "    return current_max\n",
    "\n",
    "answer = maxinlist(my_list)\n",
    "print(answer)"
   ]
  },
  {
   "cell_type": "markdown",
   "id": "15fc2fcd",
   "metadata": {},
   "source": [
    "# Reference Equality vs. Value Equality"
   ]
  },
  {
   "cell_type": "code",
   "execution_count": 6,
   "id": "ffb214c8",
   "metadata": {},
   "outputs": [
    {
     "name": "stdout",
     "output_type": "stream",
     "text": [
      "List a: ['fennec fox', 'arctic fox', 'tibetan fox', 'grey fox'], @ 0x273d54e8840\n",
      "List b: ['fennec fox', 'arctic fox', 'tibetan fox', 'grey fox'], @ 0x273d54e8780\n",
      "List c: ['fennec fox', 'arctic fox', 'tibetan fox', 'grey fox'], @ 0x273d54e8840\n",
      "a == b ? True : equal value\n",
      "a == c ? True : equal value\n",
      "b == c ? True : equal value\n",
      "a is b ? False : false - different references\n",
      "b is c ? False : false - different references\n",
      "a is c ? True : true - same reference\n"
     ]
    }
   ],
   "source": [
    "a = ['fennec fox', 'arctic fox', 'tibetan fox', 'grey fox']\n",
    "b = ['fennec fox', 'arctic fox', 'tibetan fox', 'grey fox']\n",
    "c = a\n",
    "# perform an operation so that automatic memory saving doesn't happen anymore\n",
    "b.remove('grey fox')\n",
    "b.append('grey fox')\n",
    "\n",
    "print(f'List a: {a}, @ {hex(id(a))}')\n",
    "print(f'List b: {b}, @ {hex(id(b))}')\n",
    "print(f'List c: {c}, @ {hex(id(c))}')\n",
    "print(f'a == b ? {a == b} : equal value')\n",
    "print(f'a == c ? {a == c} : equal value')\n",
    "print(f'b == c ? {b == c} : equal value')\n",
    "print(f'a is b ? {a is b} : false - different references')\n",
    "print(f'b is c ? {b is c} : false - different references')\n",
    "print(f'a is c ? {a is c} : true - same reference')"
   ]
  },
  {
   "cell_type": "markdown",
   "id": "a7ea2cb5",
   "metadata": {},
   "source": [
    "# sorted() vs .sort()"
   ]
  },
  {
   "cell_type": "code",
   "execution_count": 11,
   "id": "15706028",
   "metadata": {},
   "outputs": [
    {
     "name": "stdout",
     "output_type": "stream",
     "text": [
      "['fennec fox', 'arctic fox', 'tibetan fox', 'grey fox']\n",
      "['arctic fox', 'fennec fox', 'grey fox', 'tibetan fox']\n",
      "['arctic fox', 'fennec fox', 'grey fox', 'tibetan fox']\n"
     ]
    }
   ],
   "source": [
    "a = ['fennec fox', 'arctic fox', 'tibetan fox', 'grey fox']\n",
    "b = ['fennec fox', 'arctic fox', 'tibetan fox', 'grey fox']\n",
    "# sorted() does not work directly on the original list\n",
    "    # instead, sorted() makes a copy of the list and sorts and returns that copy\n",
    "    # out of place algorithm -> does not alter the original\n",
    "new_a = sorted(a)\n",
    "\n",
    "# .sort() is different -> .sort() is a method that works directly on the original list sorting that original list\n",
    "    # in-place algorithm -> alters the original\n",
    "b.sort()\n",
    "\n",
    "print(a)\n",
    "print(new_a)\n",
    "print(b)"
   ]
  },
  {
   "cell_type": "markdown",
   "id": "6536b876",
   "metadata": {},
   "source": [
    "# Function? Method? What's the difference?"
   ]
  },
  {
   "cell_type": "code",
   "execution_count": 12,
   "id": "f35338ac",
   "metadata": {},
   "outputs": [
    {
     "name": "stdout",
     "output_type": "stream",
     "text": [
      "This does a thing.\n"
     ]
    }
   ],
   "source": [
    "# The relationship between functions and methods is like the relationship between rectangles and squares\n",
    "# All methods are functions, but not all functions are methods\n",
    "# A function is any defined process (usually named)\n",
    "    # can be built-ins\n",
    "    # can be UDFs (user defined functions)\n",
    "    # syntax clue for a function call (aka when a function is being run) functionName()\n",
    "    # example: print(), sorted()\n",
    "# function definition\n",
    "def myFunction():\n",
    "    print('This does a thing.')\n",
    "\n",
    "myFunction() # function call"
   ]
  },
  {
   "cell_type": "code",
   "execution_count": null,
   "id": "0f9b195f",
   "metadata": {},
   "outputs": [],
   "source": [
    "# All methods are functions\n",
    "# The difference is that a method belongs to a specific class (aka a specific type of data, object, collection)\n",
    "# <class/object/datatype>.methodName()\n",
    "# example:\n",
    "list.sort()\n",
    "str.upper()\n",
    "str.title()\n",
    "str.lower()"
   ]
  },
  {
   "cell_type": "code",
   "execution_count": 13,
   "id": "c5c30f27",
   "metadata": {},
   "outputs": [],
   "source": [
    "nullvariable = None"
   ]
  },
  {
   "cell_type": "code",
   "execution_count": 15,
   "id": "3d8a3b2e",
   "metadata": {},
   "outputs": [
    {
     "name": "stdout",
     "output_type": "stream",
     "text": [
      "Will this print?\n",
      "Will this print? Bottom\n"
     ]
    }
   ],
   "source": [
    "a = 5\n",
    "\n",
    "# this is not doing what we think\n",
    "if a == 4 or 3:\n",
    "    print('Will this print?')\n",
    "    \n",
    "# it is the same as the following structure\n",
    "if a == 4:\n",
    "    print('Will this print? Top')\n",
    "if 3: # what?\n",
    "    print('Will this print? Bottom')"
   ]
  },
  {
   "cell_type": "code",
   "execution_count": 16,
   "id": "f31bd1f1",
   "metadata": {},
   "outputs": [],
   "source": [
    "# Every value in python has an implied \"truthiness\"\n",
    "# Essentially every value has intrinsic true or false value\n",
    "emptylist = []\n",
    "if emptylist:\n",
    "    print('empty lists are false')"
   ]
  },
  {
   "cell_type": "code",
   "execution_count": 17,
   "id": "11c739bc",
   "metadata": {},
   "outputs": [],
   "source": [
    "if None:\n",
    "    print('none is false')"
   ]
  },
  {
   "cell_type": "code",
   "execution_count": 18,
   "id": "8ae47748",
   "metadata": {},
   "outputs": [],
   "source": [
    "if 0:\n",
    "    print('0 is false')"
   ]
  },
  {
   "cell_type": "code",
   "execution_count": 19,
   "id": "75ea42f3",
   "metadata": {},
   "outputs": [
    {
     "name": "stdout",
     "output_type": "stream",
     "text": [
      "dog is true\n"
     ]
    }
   ],
   "source": [
    "if 'dog':\n",
    "    print('dog is true')"
   ]
  },
  {
   "cell_type": "code",
   "execution_count": 20,
   "id": "aa714fe1",
   "metadata": {},
   "outputs": [
    {
     "name": "stdout",
     "output_type": "stream",
     "text": [
      "a non-zero number is true\n"
     ]
    }
   ],
   "source": [
    "if 3:\n",
    "    print('a non-zero number is true')"
   ]
  },
  {
   "cell_type": "code",
   "execution_count": 21,
   "id": "c5a5b83d",
   "metadata": {},
   "outputs": [],
   "source": [
    "# leap year\n",
    "def isLeapYear(year):\n",
    "    return f'{year} is a leap year!' if year % 400 == 0 or (year % 4 == 0 and year % 100 != 0) else f'{year} is not a leap year.'"
   ]
  },
  {
   "cell_type": "code",
   "execution_count": 22,
   "id": "c3b3d2c1",
   "metadata": {},
   "outputs": [
    {
     "data": {
      "text/plain": [
       "'2000 is a leap year!'"
      ]
     },
     "execution_count": 22,
     "metadata": {},
     "output_type": "execute_result"
    }
   ],
   "source": [
    "isLeapYear(2000)"
   ]
  },
  {
   "cell_type": "markdown",
   "id": "a0741054",
   "metadata": {},
   "source": [
    "# Consecutive Numbers Problem (Positive Increments Only)"
   ]
  },
  {
   "cell_type": "code",
   "execution_count": 60,
   "id": "601379b4",
   "metadata": {},
   "outputs": [],
   "source": [
    "mylist = [1, 2, 3, 4, 5, 6]"
   ]
  },
  {
   "cell_type": "code",
   "execution_count": 61,
   "id": "b664fc75",
   "metadata": {},
   "outputs": [],
   "source": [
    "# function definition\n",
    "def isConsecutive(arr):\n",
    "    # my conditional is dependent on the index numbers of my list\n",
    "    # i want x in the for loop to represent the index numbers\n",
    "    # index for loop -> done by looping through the range of the length of the list\n",
    "    for x in range(len(arr)-1):\n",
    "        print(f'index: {x}, value: {arr[x]}')\n",
    "        if arr[x]+1 != arr[x+1]:\n",
    "            return False\n",
    "    return True"
   ]
  },
  {
   "cell_type": "code",
   "execution_count": 62,
   "id": "11d7113a",
   "metadata": {},
   "outputs": [
    {
     "name": "stdout",
     "output_type": "stream",
     "text": [
      "index: 0, value: 1\n",
      "index: 1, value: 2\n",
      "index: 2, value: 3\n",
      "index: 3, value: 4\n",
      "index: 4, value: 5\n"
     ]
    },
    {
     "data": {
      "text/plain": [
       "True"
      ]
     },
     "execution_count": 62,
     "metadata": {},
     "output_type": "execute_result"
    }
   ],
   "source": [
    "# function call\n",
    "isConsecutive(mylist)"
   ]
  },
  {
   "cell_type": "code",
   "execution_count": 70,
   "id": "dc9e158e",
   "metadata": {},
   "outputs": [
    {
     "data": {
      "text/plain": [
       "True"
      ]
     },
     "execution_count": 70,
     "metadata": {},
     "output_type": "execute_result"
    }
   ],
   "source": [
    "# this answer works for the interpretation of the question\n",
    "    # that the numbers don't have to be in order to be considered consecutive\n",
    "\n",
    "def is_consecutive(a_list):\n",
    "    if sorted(a_list) == list(range(min(a_list), max(a_list)+1)):\n",
    "        return True\n",
    "    else:\n",
    "        return False\n",
    "\n",
    "is_consecutive([6, 2, 7, 4, 5])"
   ]
  },
  {
   "cell_type": "code",
   "execution_count": 71,
   "id": "73b98148",
   "metadata": {},
   "outputs": [
    {
     "data": {
      "text/plain": [
       "[2, 3, 4, 5, 6]"
      ]
     },
     "execution_count": 71,
     "metadata": {},
     "output_type": "execute_result"
    }
   ],
   "source": [
    "list(range(2, 7))"
   ]
  },
  {
   "cell_type": "code",
   "execution_count": null,
   "id": "5dfbaf71",
   "metadata": {},
   "outputs": [],
   "source": []
  }
 ],
 "metadata": {
  "kernelspec": {
   "display_name": "Python 3",
   "language": "python",
   "name": "python3"
  },
  "language_info": {
   "codemirror_mode": {
    "name": "ipython",
    "version": 3
   },
   "file_extension": ".py",
   "mimetype": "text/x-python",
   "name": "python",
   "nbconvert_exporter": "python",
   "pygments_lexer": "ipython3",
   "version": "3.8.8"
  }
 },
 "nbformat": 4,
 "nbformat_minor": 5
}
